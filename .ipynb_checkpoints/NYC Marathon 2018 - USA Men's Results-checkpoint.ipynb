{
 "cells": [
  {
   "cell_type": "markdown",
   "metadata": {},
   "source": [
    "# Web Scraping the NYC Marathon (2018)\n",
    "\n",
    "### NYC Marathon 2018 - USA Men's Results\n",
    "\n",
    "The goal of this notebook is to extract, clean, manipulate, and visualize web data using Python's libraries. Specifically, I will be analyzing the 2018 results for top 100 USA men who competed in the NYC Marathon.\n",
    "\n",
    "Source: https://www.tcsnycmarathon.org/about-the-race/results/usa-men"
   ]
  },
  {
   "cell_type": "code",
   "execution_count": 2,
   "metadata": {
    "collapsed": true
   },
   "outputs": [],
   "source": [
    "## Import Statements\n",
    "import pandas as pd \n",
    "import numpy as np\n",
    "import re\n",
    "\n",
    "from urllib.request import Request, urlopen\n",
    "from bs4 import BeautifulSoup\n",
    "\n",
    "\n",
    "import matplotlib.pyplot as plt\n",
    "import seaborn as sns\n",
    "%matplotlib inline"
   ]
  },
  {
   "cell_type": "markdown",
   "metadata": {},
   "source": [
    "### Retrieving Data"
   ]
  },
  {
   "cell_type": "code",
   "execution_count": 3,
   "metadata": {
    "collapsed": true
   },
   "outputs": [],
   "source": [
    "## Setting up Web Scraping\n",
    "\n",
    "# link for overall men's results \n",
    "url = 'https://www.tcsnycmarathon.org/about-the-race/results/usa-men'\n",
    "\n",
    "# getting around mod_security or some similar server security feature\n",
    "req = Request(url, headers={'User-Agent': 'Mozilla/5.0'})\n",
    "\n",
    "# loading html\n",
    "html = urlopen(req).read()"
   ]
  },
  {
   "cell_type": "markdown",
   "metadata": {},
   "source": [
    "Credit for resolving \"HTTP Error 403: Forbidden' : https://stackoverflow.com/questions/16627227/http-error-403-in-python-3-web-scraping/47966786"
   ]
  },
  {
   "cell_type": "code",
   "execution_count": 4,
   "metadata": {},
   "outputs": [
    {
     "data": {
      "text/plain": [
       "bs4.BeautifulSoup"
      ]
     },
     "execution_count": 4,
     "metadata": {},
     "output_type": "execute_result"
    }
   ],
   "source": [
    "# creating soup object with html parser set to 'lxml'\n",
    "soup = BeautifulSoup(html, 'lxml')\n",
    "\n",
    "# printing the type of the soup object\n",
    "type(soup)"
   ]
  },
  {
   "cell_type": "markdown",
   "metadata": {},
   "source": [
    "### Cleaning Data"
   ]
  },
  {
   "cell_type": "code",
   "execution_count": 5,
   "metadata": {
    "collapsed": true
   },
   "outputs": [],
   "source": [
    "## Generate an empty list, extract text inbetween html tags for each row, and append to list\n",
    "\n",
    "# finding all of the table rows\n",
    "table_rows = soup.find_all('tr')\n",
    "\n",
    "# creating an empty list for the rows\n",
    "rows_list = list()\n",
    "\n",
    "for row in table_rows:\n",
    "    cells = row.find_all('td')                              # finding all table cells\n",
    "    str_cells = str(cells)                                  # converting from list\n",
    "    clean_text = BeautifulSoup(str_cells, 'lxml').get_text()\n",
    "    clean_text = clean_text.replace('\\n\\t\\t\\t\\t', '')       # removing new line/tabs\n",
    "    #clean_text = clean_text.replace('[', '')                # removing brackets\n",
    "    #clean_text = clean_text.replace(']', '')                # removing brackets\n",
    "    rows_list.append(clean_text)"
   ]
  },
  {
   "cell_type": "code",
   "execution_count": 6,
   "metadata": {
    "scrolled": false
   },
   "outputs": [
    {
     "data": {
      "text/plain": [
       "['[Place, Bib, Name, Time, State, Country, Citizenship]',\n",
       " '[7, 3, Abdi Abdirahman, 2:12:48, AZ, United States, USA]',\n",
       " '[10, 12, Shadrack Biwott, 2:14:57, CA, United States, USA]',\n",
       " '[11, 11, Meb Keflezighi, 2:15:29, CA, United States, USA]',\n",
       " '[12, 9, Jared Ward, 2:18:39, UT, United States, USA]']"
      ]
     },
     "execution_count": 6,
     "metadata": {},
     "output_type": "execute_result"
    }
   ],
   "source": [
    "## Inspecting the first few rows\n",
    "rows_list[:5]"
   ]
  },
  {
   "cell_type": "code",
   "execution_count": 7,
   "metadata": {
    "scrolled": true
   },
   "outputs": [
    {
     "name": "stdout",
     "output_type": "stream",
     "text": [
      "<class 'str'>\n"
     ]
    }
   ],
   "source": [
    "## We can see that is it a list of strings, not al list of lists, this is an issue\n",
    "print(type(rows_list[1]))"
   ]
  },
  {
   "cell_type": "code",
   "execution_count": 8,
   "metadata": {},
   "outputs": [],
   "source": [
    "## Easiest way (through trial and error) to convert the list of strings (of lists) into list\n",
    "df_list = []\n",
    "for x in rows_list:\n",
    "    junkers = re.compile('[[\" \\]]')\n",
    "    result = junkers.sub('', x).split(',')\n",
    "    df_list.append(result)\n",
    "    \n",
    "    \n",
    "# https://stackoverflow.com/questions/1894269/convert-string-representation-of-list-to-list"
   ]
  },
  {
   "cell_type": "markdown",
   "metadata": {},
   "source": [
    "#### Pandas DataFrame"
   ]
  },
  {
   "cell_type": "code",
   "execution_count": 9,
   "metadata": {},
   "outputs": [
    {
     "data": {
      "text/html": [
       "<div>\n",
       "<style scoped>\n",
       "    .dataframe tbody tr th:only-of-type {\n",
       "        vertical-align: middle;\n",
       "    }\n",
       "\n",
       "    .dataframe tbody tr th {\n",
       "        vertical-align: top;\n",
       "    }\n",
       "\n",
       "    .dataframe thead th {\n",
       "        text-align: right;\n",
       "    }\n",
       "</style>\n",
       "<table border=\"1\" class=\"dataframe\">\n",
       "  <thead>\n",
       "    <tr style=\"text-align: right;\">\n",
       "      <th></th>\n",
       "      <th>Place</th>\n",
       "      <th>Bib</th>\n",
       "      <th>Name</th>\n",
       "      <th>Time</th>\n",
       "      <th>State</th>\n",
       "      <th>Country</th>\n",
       "      <th>Citizenship</th>\n",
       "      <th>None</th>\n",
       "    </tr>\n",
       "  </thead>\n",
       "  <tbody>\n",
       "    <tr>\n",
       "      <th>0</th>\n",
       "      <td>Place</td>\n",
       "      <td>Bib</td>\n",
       "      <td>Name</td>\n",
       "      <td>Time</td>\n",
       "      <td>State</td>\n",
       "      <td>Country</td>\n",
       "      <td>Citizenship</td>\n",
       "      <td>None</td>\n",
       "    </tr>\n",
       "    <tr>\n",
       "      <th>1</th>\n",
       "      <td>7</td>\n",
       "      <td>3</td>\n",
       "      <td>AbdiAbdirahman</td>\n",
       "      <td>2:12:48</td>\n",
       "      <td>AZ</td>\n",
       "      <td>UnitedStates</td>\n",
       "      <td>USA</td>\n",
       "      <td>None</td>\n",
       "    </tr>\n",
       "    <tr>\n",
       "      <th>2</th>\n",
       "      <td>10</td>\n",
       "      <td>12</td>\n",
       "      <td>ShadrackBiwott</td>\n",
       "      <td>2:14:57</td>\n",
       "      <td>CA</td>\n",
       "      <td>UnitedStates</td>\n",
       "      <td>USA</td>\n",
       "      <td>None</td>\n",
       "    </tr>\n",
       "    <tr>\n",
       "      <th>3</th>\n",
       "      <td>11</td>\n",
       "      <td>11</td>\n",
       "      <td>MebKeflezighi</td>\n",
       "      <td>2:15:29</td>\n",
       "      <td>CA</td>\n",
       "      <td>UnitedStates</td>\n",
       "      <td>USA</td>\n",
       "      <td>None</td>\n",
       "    </tr>\n",
       "    <tr>\n",
       "      <th>4</th>\n",
       "      <td>12</td>\n",
       "      <td>9</td>\n",
       "      <td>JaredWard</td>\n",
       "      <td>2:18:39</td>\n",
       "      <td>UT</td>\n",
       "      <td>UnitedStates</td>\n",
       "      <td>USA</td>\n",
       "      <td>None</td>\n",
       "    </tr>\n",
       "  </tbody>\n",
       "</table>\n",
       "</div>"
      ],
      "text/plain": [
       "   Place  Bib            Name     Time  State       Country  Citizenship  None\n",
       "0  Place  Bib            Name     Time  State       Country  Citizenship  None\n",
       "1      7    3  AbdiAbdirahman  2:12:48     AZ  UnitedStates          USA  None\n",
       "2     10   12  ShadrackBiwott  2:14:57     CA  UnitedStates          USA  None\n",
       "3     11   11   MebKeflezighi  2:15:29     CA  UnitedStates          USA  None\n",
       "4     12    9       JaredWard  2:18:39     UT  UnitedStates          USA  None"
      ]
     },
     "execution_count": 9,
     "metadata": {},
     "output_type": "execute_result"
    }
   ],
   "source": [
    "# columns names   (for some reason, as you can see below, there are 8 columns)\n",
    "column_names = df_list[0] + [\"None\"]\n",
    "\n",
    "\n",
    "# loading DataFrame\n",
    "df = pd.DataFrame(df_list, columns=column_names)\n",
    "\n",
    "# inspecting first few lines\n",
    "df.head()"
   ]
  },
  {
   "cell_type": "code",
   "execution_count": 10,
   "metadata": {},
   "outputs": [
    {
     "data": {
      "text/html": [
       "<div>\n",
       "<style scoped>\n",
       "    .dataframe tbody tr th:only-of-type {\n",
       "        vertical-align: middle;\n",
       "    }\n",
       "\n",
       "    .dataframe tbody tr th {\n",
       "        vertical-align: top;\n",
       "    }\n",
       "\n",
       "    .dataframe thead th {\n",
       "        text-align: right;\n",
       "    }\n",
       "</style>\n",
       "<table border=\"1\" class=\"dataframe\">\n",
       "  <thead>\n",
       "    <tr style=\"text-align: right;\">\n",
       "      <th></th>\n",
       "      <th>Place</th>\n",
       "      <th>Bib</th>\n",
       "      <th>Name</th>\n",
       "      <th>Time</th>\n",
       "      <th>State</th>\n",
       "      <th>Country</th>\n",
       "      <th>Citizenship</th>\n",
       "      <th>None</th>\n",
       "    </tr>\n",
       "  </thead>\n",
       "  <tbody>\n",
       "    <tr>\n",
       "      <th>97</th>\n",
       "      <td>232</td>\n",
       "      <td>608</td>\n",
       "      <td>StephenYoung</td>\n",
       "      <td>2:45:21</td>\n",
       "      <td>FL</td>\n",
       "      <td>UnitedStates</td>\n",
       "      <td>USA</td>\n",
       "      <td>None</td>\n",
       "    </tr>\n",
       "    <tr>\n",
       "      <th>98</th>\n",
       "      <td>238</td>\n",
       "      <td>1545</td>\n",
       "      <td>TopherGaylord</td>\n",
       "      <td>2:45:33</td>\n",
       "      <td>MD</td>\n",
       "      <td>UnitedStates</td>\n",
       "      <td>USA</td>\n",
       "      <td>None</td>\n",
       "    </tr>\n",
       "    <tr>\n",
       "      <th>99</th>\n",
       "      <td>239</td>\n",
       "      <td>1029</td>\n",
       "      <td>ChasePizzonia</td>\n",
       "      <td>2:45:38</td>\n",
       "      <td>NY</td>\n",
       "      <td>UnitedStates</td>\n",
       "      <td>USA</td>\n",
       "      <td>None</td>\n",
       "    </tr>\n",
       "    <tr>\n",
       "      <th>100</th>\n",
       "      <td>240</td>\n",
       "      <td>3151</td>\n",
       "      <td>AndrewRoach</td>\n",
       "      <td>2:45:41</td>\n",
       "      <td>MD</td>\n",
       "      <td>UnitedStates</td>\n",
       "      <td>USA</td>\n",
       "      <td>None</td>\n",
       "    </tr>\n",
       "    <tr>\n",
       "      <th>101</th>\n",
       "      <td></td>\n",
       "      <td>None</td>\n",
       "      <td>None</td>\n",
       "      <td>None</td>\n",
       "      <td>None</td>\n",
       "      <td>None</td>\n",
       "      <td>None</td>\n",
       "      <td>None</td>\n",
       "    </tr>\n",
       "  </tbody>\n",
       "</table>\n",
       "</div>"
      ],
      "text/plain": [
       "    Place   Bib           Name     Time State       Country Citizenship  None\n",
       "97    232   608   StephenYoung  2:45:21    FL  UnitedStates         USA  None\n",
       "98    238  1545  TopherGaylord  2:45:33    MD  UnitedStates         USA  None\n",
       "99    239  1029  ChasePizzonia  2:45:38    NY  UnitedStates         USA  None\n",
       "100   240  3151    AndrewRoach  2:45:41    MD  UnitedStates         USA  None\n",
       "101        None           None     None  None          None        None  None"
      ]
     },
     "execution_count": 10,
     "metadata": {},
     "output_type": "execute_result"
    }
   ],
   "source": [
    "df.tail()"
   ]
  },
  {
   "cell_type": "code",
   "execution_count": 11,
   "metadata": {},
   "outputs": [
    {
     "data": {
      "text/plain": [
       "(102, 8)"
      ]
     },
     "execution_count": 11,
     "metadata": {},
     "output_type": "execute_result"
    }
   ],
   "source": [
    "df.shape"
   ]
  },
  {
   "cell_type": "code",
   "execution_count": 12,
   "metadata": {
    "collapsed": true
   },
   "outputs": [],
   "source": [
    "# dropping the first row because it contians the column names\n",
    "df = df.drop([0]) \n",
    "\n",
    "# Bad entry \"68\t154\t1208\tRobertWiegand\tJr\t2:42:30\tIL\tUnitedStates\"\n",
    "df = df.drop([68])\n",
    "\n",
    "# last row full of NaN's\n",
    "df = df.drop([101])\n",
    "df = df.drop(['None'], axis=1)"
   ]
  },
  {
   "cell_type": "code",
   "execution_count": 13,
   "metadata": {},
   "outputs": [
    {
     "data": {
      "text/html": [
       "<div>\n",
       "<style scoped>\n",
       "    .dataframe tbody tr th:only-of-type {\n",
       "        vertical-align: middle;\n",
       "    }\n",
       "\n",
       "    .dataframe tbody tr th {\n",
       "        vertical-align: top;\n",
       "    }\n",
       "\n",
       "    .dataframe thead th {\n",
       "        text-align: right;\n",
       "    }\n",
       "</style>\n",
       "<table border=\"1\" class=\"dataframe\">\n",
       "  <thead>\n",
       "    <tr style=\"text-align: right;\">\n",
       "      <th></th>\n",
       "      <th>Place</th>\n",
       "      <th>Bib</th>\n",
       "      <th>Name</th>\n",
       "      <th>Time</th>\n",
       "      <th>State</th>\n",
       "      <th>Country</th>\n",
       "      <th>Citizenship</th>\n",
       "    </tr>\n",
       "  </thead>\n",
       "  <tbody>\n",
       "    <tr>\n",
       "      <th>1</th>\n",
       "      <td>7</td>\n",
       "      <td>3</td>\n",
       "      <td>AbdiAbdirahman</td>\n",
       "      <td>2:12:48</td>\n",
       "      <td>AZ</td>\n",
       "      <td>UnitedStates</td>\n",
       "      <td>USA</td>\n",
       "    </tr>\n",
       "    <tr>\n",
       "      <th>2</th>\n",
       "      <td>10</td>\n",
       "      <td>12</td>\n",
       "      <td>ShadrackBiwott</td>\n",
       "      <td>2:14:57</td>\n",
       "      <td>CA</td>\n",
       "      <td>UnitedStates</td>\n",
       "      <td>USA</td>\n",
       "    </tr>\n",
       "  </tbody>\n",
       "</table>\n",
       "</div>"
      ],
      "text/plain": [
       "  Place Bib            Name     Time State       Country Citizenship\n",
       "1     7   3  AbdiAbdirahman  2:12:48    AZ  UnitedStates         USA\n",
       "2    10  12  ShadrackBiwott  2:14:57    CA  UnitedStates         USA"
      ]
     },
     "execution_count": 13,
     "metadata": {},
     "output_type": "execute_result"
    }
   ],
   "source": [
    "## Again inspecting\n",
    "df.head(2)"
   ]
  },
  {
   "cell_type": "code",
   "execution_count": 14,
   "metadata": {},
   "outputs": [
    {
     "name": "stdout",
     "output_type": "stream",
     "text": [
      "<class 'pandas.core.frame.DataFrame'>\n",
      "Int64Index: 99 entries, 1 to 100\n",
      "Data columns (total 7 columns):\n",
      "Place          99 non-null object\n",
      "Bib            99 non-null object\n",
      "Name           99 non-null object\n",
      "Time           99 non-null object\n",
      "State          99 non-null object\n",
      "Country        99 non-null object\n",
      "Citizenship    99 non-null object\n",
      "dtypes: object(7)\n",
      "memory usage: 6.2+ KB\n"
     ]
    }
   ],
   "source": [
    "# inspecting data types\n",
    "df.info()"
   ]
  },
  {
   "cell_type": "code",
   "execution_count": 15,
   "metadata": {
    "collapsed": true
   },
   "outputs": [],
   "source": [
    "## Changing data types to proper data types\n",
    "df.Place = pd.to_numeric(df.Place)\n",
    "\n",
    "df.Bib = pd.to_numeric(df.Bib)"
   ]
  },
  {
   "cell_type": "code",
   "execution_count": 16,
   "metadata": {},
   "outputs": [
    {
     "name": "stdout",
     "output_type": "stream",
     "text": [
      "2:12:48\n"
     ]
    }
   ],
   "source": [
    "print(df.Time[1])"
   ]
  },
  {
   "cell_type": "code",
   "execution_count": 17,
   "metadata": {
    "collapsed": true
   },
   "outputs": [],
   "source": [
    "## Manually correcting one entry: 68, 154,1208,RobertWiegand\tJr\t2:42:30\tIL,UnitedStates\n",
    "# df.loc[68].Time =\"2:42:20\"\n",
    "# df.loc[68].State = \"IL\"\n",
    "# df.loc[68].Country = \"UnitedStates\"\n",
    "# df.loc[68].Citizenship = 'USA'"
   ]
  },
  {
   "cell_type": "code",
   "execution_count": 18,
   "metadata": {
    "collapsed": true
   },
   "outputs": [],
   "source": [
    "## Having a lot of trouble using pd.to_datetime\n",
    "# Wont convert to just hours, minutes, and seconds but rather starts with year, month, day\n",
    "\n",
    "# ex.)  1900-01-01 02:12:48\n",
    "\n",
    "# df.Time = pd.to_datetime(df.Time, format='%H:%M:%S', errors='coerce')"
   ]
  },
  {
   "cell_type": "code",
   "execution_count": 19,
   "metadata": {
    "collapsed": true
   },
   "outputs": [],
   "source": [
    "### Calculating the the total minutes of each runner's time for mathematical analysis.\n",
    "\n",
    "time_in_minutes = []\n",
    "\n",
    "for time in df.Time:\n",
    "    t = time.split(':')\n",
    "    \n",
    "    hours, minutes, sec = t[0], t[1], t[2]\n",
    "    total_mins = (int(hours) * 3600 + int(minutes) * 60 + int(sec)) / 60\n",
    "    time_in_minutes.append(total_mins)"
   ]
  },
  {
   "cell_type": "code",
   "execution_count": 20,
   "metadata": {
    "collapsed": true
   },
   "outputs": [],
   "source": [
    "df['Minutes'] = time_in_minutes"
   ]
  },
  {
   "cell_type": "code",
   "execution_count": 21,
   "metadata": {},
   "outputs": [
    {
     "data": {
      "text/html": [
       "<div>\n",
       "<style scoped>\n",
       "    .dataframe tbody tr th:only-of-type {\n",
       "        vertical-align: middle;\n",
       "    }\n",
       "\n",
       "    .dataframe tbody tr th {\n",
       "        vertical-align: top;\n",
       "    }\n",
       "\n",
       "    .dataframe thead th {\n",
       "        text-align: right;\n",
       "    }\n",
       "</style>\n",
       "<table border=\"1\" class=\"dataframe\">\n",
       "  <thead>\n",
       "    <tr style=\"text-align: right;\">\n",
       "      <th></th>\n",
       "      <th>Place</th>\n",
       "      <th>Bib</th>\n",
       "      <th>Name</th>\n",
       "      <th>Time</th>\n",
       "      <th>State</th>\n",
       "      <th>Country</th>\n",
       "      <th>Citizenship</th>\n",
       "      <th>Minutes</th>\n",
       "    </tr>\n",
       "  </thead>\n",
       "  <tbody>\n",
       "    <tr>\n",
       "      <th>1</th>\n",
       "      <td>7</td>\n",
       "      <td>3</td>\n",
       "      <td>AbdiAbdirahman</td>\n",
       "      <td>2:12:48</td>\n",
       "      <td>AZ</td>\n",
       "      <td>UnitedStates</td>\n",
       "      <td>USA</td>\n",
       "      <td>132.800000</td>\n",
       "    </tr>\n",
       "    <tr>\n",
       "      <th>2</th>\n",
       "      <td>10</td>\n",
       "      <td>12</td>\n",
       "      <td>ShadrackBiwott</td>\n",
       "      <td>2:14:57</td>\n",
       "      <td>CA</td>\n",
       "      <td>UnitedStates</td>\n",
       "      <td>USA</td>\n",
       "      <td>134.950000</td>\n",
       "    </tr>\n",
       "    <tr>\n",
       "      <th>3</th>\n",
       "      <td>11</td>\n",
       "      <td>11</td>\n",
       "      <td>MebKeflezighi</td>\n",
       "      <td>2:15:29</td>\n",
       "      <td>CA</td>\n",
       "      <td>UnitedStates</td>\n",
       "      <td>USA</td>\n",
       "      <td>135.483333</td>\n",
       "    </tr>\n",
       "    <tr>\n",
       "      <th>4</th>\n",
       "      <td>12</td>\n",
       "      <td>9</td>\n",
       "      <td>JaredWard</td>\n",
       "      <td>2:18:39</td>\n",
       "      <td>UT</td>\n",
       "      <td>UnitedStates</td>\n",
       "      <td>USA</td>\n",
       "      <td>138.650000</td>\n",
       "    </tr>\n",
       "    <tr>\n",
       "      <th>5</th>\n",
       "      <td>15</td>\n",
       "      <td>18</td>\n",
       "      <td>BrendanMartin</td>\n",
       "      <td>2:22:36</td>\n",
       "      <td>NY</td>\n",
       "      <td>UnitedStates</td>\n",
       "      <td>USA</td>\n",
       "      <td>142.600000</td>\n",
       "    </tr>\n",
       "  </tbody>\n",
       "</table>\n",
       "</div>"
      ],
      "text/plain": [
       "   Place  Bib            Name     Time State       Country Citizenship  \\\n",
       "1      7    3  AbdiAbdirahman  2:12:48    AZ  UnitedStates         USA   \n",
       "2     10   12  ShadrackBiwott  2:14:57    CA  UnitedStates         USA   \n",
       "3     11   11   MebKeflezighi  2:15:29    CA  UnitedStates         USA   \n",
       "4     12    9       JaredWard  2:18:39    UT  UnitedStates         USA   \n",
       "5     15   18   BrendanMartin  2:22:36    NY  UnitedStates         USA   \n",
       "\n",
       "      Minutes  \n",
       "1  132.800000  \n",
       "2  134.950000  \n",
       "3  135.483333  \n",
       "4  138.650000  \n",
       "5  142.600000  "
      ]
     },
     "execution_count": 21,
     "metadata": {},
     "output_type": "execute_result"
    }
   ],
   "source": [
    "df.head()"
   ]
  },
  {
   "cell_type": "markdown",
   "metadata": {},
   "source": [
    "### Exploratory Data Analysis"
   ]
  },
  {
   "cell_type": "code",
   "execution_count": 27,
   "metadata": {},
   "outputs": [
    {
     "data": {
      "text/html": [
       "<div>\n",
       "<style scoped>\n",
       "    .dataframe tbody tr th:only-of-type {\n",
       "        vertical-align: middle;\n",
       "    }\n",
       "\n",
       "    .dataframe tbody tr th {\n",
       "        vertical-align: top;\n",
       "    }\n",
       "\n",
       "    .dataframe thead th {\n",
       "        text-align: right;\n",
       "    }\n",
       "</style>\n",
       "<table border=\"1\" class=\"dataframe\">\n",
       "  <thead>\n",
       "    <tr style=\"text-align: right;\">\n",
       "      <th></th>\n",
       "      <th>Place</th>\n",
       "      <th>Bib</th>\n",
       "      <th>Minutes</th>\n",
       "    </tr>\n",
       "  </thead>\n",
       "  <tbody>\n",
       "    <tr>\n",
       "      <th>count</th>\n",
       "      <td>99.000000</td>\n",
       "      <td>99.000000</td>\n",
       "      <td>99.000000</td>\n",
       "    </tr>\n",
       "    <tr>\n",
       "      <th>mean</th>\n",
       "      <td>116.575758</td>\n",
       "      <td>1141.383838</td>\n",
       "      <td>158.039057</td>\n",
       "    </tr>\n",
       "    <tr>\n",
       "      <th>std</th>\n",
       "      <td>64.027273</td>\n",
       "      <td>922.014816</td>\n",
       "      <td>6.788641</td>\n",
       "    </tr>\n",
       "    <tr>\n",
       "      <th>min</th>\n",
       "      <td>7.000000</td>\n",
       "      <td>3.000000</td>\n",
       "      <td>132.800000</td>\n",
       "    </tr>\n",
       "    <tr>\n",
       "      <th>25%</th>\n",
       "      <td>66.000000</td>\n",
       "      <td>550.000000</td>\n",
       "      <td>155.358333</td>\n",
       "    </tr>\n",
       "    <tr>\n",
       "      <th>50%</th>\n",
       "      <td>109.000000</td>\n",
       "      <td>1070.000000</td>\n",
       "      <td>159.233333</td>\n",
       "    </tr>\n",
       "    <tr>\n",
       "      <th>75%</th>\n",
       "      <td>168.500000</td>\n",
       "      <td>1394.000000</td>\n",
       "      <td>163.016667</td>\n",
       "    </tr>\n",
       "    <tr>\n",
       "      <th>max</th>\n",
       "      <td>240.000000</td>\n",
       "      <td>7081.000000</td>\n",
       "      <td>165.683333</td>\n",
       "    </tr>\n",
       "  </tbody>\n",
       "</table>\n",
       "</div>"
      ],
      "text/plain": [
       "            Place          Bib     Minutes\n",
       "count   99.000000    99.000000   99.000000\n",
       "mean   116.575758  1141.383838  158.039057\n",
       "std     64.027273   922.014816    6.788641\n",
       "min      7.000000     3.000000  132.800000\n",
       "25%     66.000000   550.000000  155.358333\n",
       "50%    109.000000  1070.000000  159.233333\n",
       "75%    168.500000  1394.000000  163.016667\n",
       "max    240.000000  7081.000000  165.683333"
      ]
     },
     "execution_count": 27,
     "metadata": {},
     "output_type": "execute_result"
    }
   ],
   "source": [
    "df.describe()"
   ]
  },
  {
   "cell_type": "code",
   "execution_count": 29,
   "metadata": {},
   "outputs": [
    {
     "data": {
      "image/png": "[encoded data removed]",
      "text/plain": [
       "<matplotlib.figure.Figure at 0x7f75129df5f8>"
      ]
     },
     "metadata": {},
     "output_type": "display_data"
    }
   ],
   "source": [
    "## Distribution Plot\n",
    "f = plt.figure(figsize=(10,5))\n",
    "\n",
    "sns.distplot(df.Minutes, hist=True, kde=True, \n",
    "             rug=False, color='b', bins=int(np.sqrt(len(df.Time))), \n",
    "             hist_kws={'edgecolor':'black'}\n",
    "            )\n",
    "\n",
    "plt.suptitle(\"Distribution of Top 100 USA Men's Times\\n at 2018 NYC Marathon\",\n",
    "             fontsize=16)\n",
    "\n",
    "plt.xlabel(\"Minutes\", fontsize=14)\n",
    "\n",
    "plt.savefig(\"MinutesDistribution.png\")\n",
    "\n",
    "plt.show()"
   ]
  },
  {
   "cell_type": "code",
   "execution_count": 24,
   "metadata": {},
   "outputs": [
    {
     "data": {
      "image/png": "[encoded data removed]",
      "text/plain": [
       "<matplotlib.figure.Figure at 0x7f7512bb4c50>"
      ]
     },
     "metadata": {},
     "output_type": "display_data"
    }
   ],
   "source": [
    "## Distribution Plot\n",
    "f = plt.figure(figsize=(10,5))\n",
    "\n",
    "sns.distplot(df.Minutes[:31], hist=True, kde=True, \n",
    "             rug=False, color='b', bins=6, \n",
    "             hist_kws={'edgecolor':'black'}\n",
    "            )\n",
    "\n",
    "plt.suptitle(\"Distribution of Top 30 USA Men's Times\\n at 2018 NYC Marathon\",\n",
    "             fontsize=16)\n",
    "\n",
    "plt.xlabel(\"Minutes\", fontsize=14)\n",
    "plt.show()"
   ]
  },
  {
   "cell_type": "code",
   "execution_count": 26,
   "metadata": {},
   "outputs": [
    {
     "data": {
      "image/png": "[encoded data removed]",
      "text/plain": [
       "<matplotlib.figure.Figure at 0x7f751aa1e278>"
      ]
     },
     "metadata": {},
     "output_type": "display_data"
    }
   ],
   "source": [
    "df.boxplot(column='Minutes', by='Citizenship')\n",
    "\n",
    "plt.suptitle(\" \")\n",
    "\n",
    "plt.ylabel(\"Minutes\", fontsize=12)\n",
    "plt.show()"
   ]
  },
  {
   "cell_type": "code",
   "execution_count": 28,
   "metadata": {},
   "outputs": [
    {
     "name": "stderr",
     "output_type": "stream",
     "text": [
      "/home/adam/anaconda3/lib/python3.6/site-packages/seaborn/categorical.py:1460: FutureWarning: remove_na is deprecated and is a private function. Do not use.\n",
      "  stat_data = remove_na(group_data)\n"
     ]
    },
    {
     "data": {
      "image/png": "[encoded data removed]",
      "text/plain": [
       "<matplotlib.figure.Figure at 0x7f7512ae3518>"
      ]
     },
     "metadata": {},
     "output_type": "display_data"
    }
   ],
   "source": [
    "f = plt.figure(figsize=(12,10))\n",
    "\n",
    "sns.countplot(x='State', data=df.dropna())\n",
    "\n",
    "\n",
    "\n",
    "plt.ylabel(\"Count\", fontsize=16)\n",
    "plt.xlabel(\"State\", fontsize=16)\n",
    "\n",
    "plt.show()"
   ]
  },
  {
   "cell_type": "markdown",
   "metadata": {},
   "source": [
    "### Conclusion"
   ]
  },
  {
   "cell_type": "code",
   "execution_count": null,
   "metadata": {
    "collapsed": true
   },
   "outputs": [],
   "source": [
    "states = df.groupby(by=\"State\").count()"
   ]
  },
  {
   "cell_type": "code",
   "execution_count": null,
   "metadata": {
    "collapsed": true
   },
   "outputs": [],
   "source": [
    "top_ten_states = states.sort_values(by=\"Place\", ascending=False).head(10)\n",
    "top_ten_states"
   ]
  },
  {
   "cell_type": "markdown",
   "metadata": {},
   "source": [
    "1. The state with the highest number of top 100 runners was New York (38). California had the second most (9).\n",
    "2. 50% of the top 100 USA Mens finishers had a time between 155 and 163 minutes while the winner ran it in 132.8 and the slowest at 165.8"
   ]
  }
 ],
 "metadata": {
  "kernelspec": {
   "display_name": "Python 3",
   "language": "python",
   "name": "python3"
  },
  "language_info": {
   "codemirror_mode": {
    "name": "ipython",
    "version": 3
   },
   "file_extension": ".py",
   "mimetype": "text/x-python",
   "name": "python",
   "nbconvert_exporter": "python",
   "pygments_lexer": "ipython3",
   "version": "3.6.3"
  }
 },
 "nbformat": 4,
 "nbformat_minor": 2
}
