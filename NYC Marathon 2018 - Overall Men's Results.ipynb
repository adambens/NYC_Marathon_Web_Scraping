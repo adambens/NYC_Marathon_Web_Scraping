{
 "cells": [
  {
   "cell_type": "markdown",
   "metadata": {},
   "source": [
    "## Web Scraping the NYC Marathon (2018) \n",
    "### NYC Marathon 2018 - Overall Men's Results \n",
    "\n",
    "\n",
    "The goal of this notebook is to extract, clean, manipulate, and visualize web data using Python's libraries. Specifically, I will be analyzing the 2018 results for top 100 USA men who competed in the NYC Marathon.\n",
    "\n",
    "Source: https://www.tcsnycmarathon.org/about-the-race/results/overall-men"
   ]
  },
  {
   "cell_type": "code",
   "execution_count": 1,
   "metadata": {
    "collapsed": true
   },
   "outputs": [],
   "source": [
    "## Import Statements\n",
    "import pandas as pd \n",
    "import numpy as np\n",
    "import re\n",
    "\n",
    "from urllib.request import Request, urlopen\n",
    "from bs4 import BeautifulSoup\n",
    "\n",
    "\n",
    "import matplotlib.pyplot as plt\n",
    "import seaborn as sns\n",
    "%matplotlib inline"
   ]
  },
  {
   "cell_type": "markdown",
   "metadata": {},
   "source": [
    "### Retrieving Data"
   ]
  },
  {
   "cell_type": "code",
   "execution_count": 2,
   "metadata": {
    "collapsed": true
   },
   "outputs": [],
   "source": [
    "## Setting up Web Scraping\n",
    "\n",
    "# link for overall men's results \n",
    "url = 'https://www.tcsnycmarathon.org/about-the-race/results/overall-men'\n",
    "\n",
    "# getting around mod_security or some similar server security feature\n",
    "req = Request(url, headers={'User-Agent': 'Mozilla/5.0'})\n",
    "\n",
    "# loading html\n",
    "html = urlopen(req).read()"
   ]
  },
  {
   "cell_type": "code",
   "execution_count": 3,
   "metadata": {},
   "outputs": [
    {
     "data": {
      "text/plain": [
       "bs4.BeautifulSoup"
      ]
     },
     "execution_count": 3,
     "metadata": {},
     "output_type": "execute_result"
    }
   ],
   "source": [
    "# creating soup object with html parser set to 'lxml'\n",
    "soup = BeautifulSoup(html, 'lxml')\n",
    "\n",
    "# printing the type of the soup object\n",
    "type(soup)"
   ]
  },
  {
   "cell_type": "code",
   "execution_count": 4,
   "metadata": {
    "collapsed": true
   },
   "outputs": [],
   "source": [
    "## Generate an empty list, extract text inbetween html tags for each row, and append to list\n",
    "\n",
    "# finding all of the table rows\n",
    "table_rows = soup.find_all('tr')\n",
    "\n",
    "# creating an empty list for the rows\n",
    "rows_list = list()\n",
    "\n",
    "for row in table_rows:\n",
    "    cells = row.find_all('td')                              # finding all table cells\n",
    "    str_cells = str(cells)                                  # converting from list\n",
    "    clean_text = BeautifulSoup(str_cells, 'lxml').get_text()\n",
    "    clean_text = clean_text.replace('\\n\\t\\t\\t\\t', '')       # removing new line/tabs\n",
    "    #clean_text = clean_text.replace('[', '')                # removing brackets\n",
    "    #clean_text = clean_text.replace(']', '')                # removing brackets\n",
    "    rows_list.append(clean_text)"
   ]
  },
  {
   "cell_type": "code",
   "execution_count": 5,
   "metadata": {},
   "outputs": [
    {
     "data": {
      "text/plain": [
       "['[Place, Bib, Name, Time, State, Country, Citizenship]',\n",
       " '[1, 5, Geoffrey Kamworor, 2:10:53, \\xa0, Kenya, KEN]',\n",
       " '[2, 4, Wilson Kipsang, 2:10:56, \\xa0, Kenya, KEN]',\n",
       " '[3, 7, Lelisa Desisa, 2:11:32, \\xa0, Ethiopia, ETH]',\n",
       " '[4, 6, Lemi Berhanu, 2:11:52, \\xa0, Ethiopia, ETH]']"
      ]
     },
     "execution_count": 5,
     "metadata": {},
     "output_type": "execute_result"
    }
   ],
   "source": [
    "## Inspecting Data\n",
    "rows_list[:5]"
   ]
  },
  {
   "cell_type": "code",
   "execution_count": 6,
   "metadata": {
    "collapsed": true
   },
   "outputs": [],
   "source": [
    "## Easiest way (through trial and error) to convert the list of strings (of lists) into list\n",
    "df_list = []\n",
    "for x in rows_list:\n",
    "    junkers = re.compile('[[\" \\]]')\n",
    "    result = junkers.sub('', x).split(',')\n",
    "    df_list.append(result)\n",
    "    "
   ]
  },
  {
   "cell_type": "markdown",
   "metadata": {},
   "source": [
    "#### Pandas DataFrame"
   ]
  },
  {
   "cell_type": "code",
   "execution_count": 7,
   "metadata": {},
   "outputs": [
    {
     "data": {
      "text/html": [
       "<div>\n",
       "<style scoped>\n",
       "    .dataframe tbody tr th:only-of-type {\n",
       "        vertical-align: middle;\n",
       "    }\n",
       "\n",
       "    .dataframe tbody tr th {\n",
       "        vertical-align: top;\n",
       "    }\n",
       "\n",
       "    .dataframe thead th {\n",
       "        text-align: right;\n",
       "    }\n",
       "</style>\n",
       "<table border=\"1\" class=\"dataframe\">\n",
       "  <thead>\n",
       "    <tr style=\"text-align: right;\">\n",
       "      <th></th>\n",
       "      <th>Place</th>\n",
       "      <th>Bib</th>\n",
       "      <th>Name</th>\n",
       "      <th>Time</th>\n",
       "      <th>State</th>\n",
       "      <th>Country</th>\n",
       "      <th>Citizenship</th>\n",
       "    </tr>\n",
       "  </thead>\n",
       "  <tbody>\n",
       "    <tr>\n",
       "      <th>0</th>\n",
       "      <td>Place</td>\n",
       "      <td>Bib</td>\n",
       "      <td>Name</td>\n",
       "      <td>Time</td>\n",
       "      <td>State</td>\n",
       "      <td>Country</td>\n",
       "      <td>Citizenship</td>\n",
       "    </tr>\n",
       "    <tr>\n",
       "      <th>1</th>\n",
       "      <td>1</td>\n",
       "      <td>5</td>\n",
       "      <td>GeoffreyKamworor</td>\n",
       "      <td>2:10:53</td>\n",
       "      <td></td>\n",
       "      <td>Kenya</td>\n",
       "      <td>KEN</td>\n",
       "    </tr>\n",
       "    <tr>\n",
       "      <th>2</th>\n",
       "      <td>2</td>\n",
       "      <td>4</td>\n",
       "      <td>WilsonKipsang</td>\n",
       "      <td>2:10:56</td>\n",
       "      <td></td>\n",
       "      <td>Kenya</td>\n",
       "      <td>KEN</td>\n",
       "    </tr>\n",
       "    <tr>\n",
       "      <th>3</th>\n",
       "      <td>3</td>\n",
       "      <td>7</td>\n",
       "      <td>LelisaDesisa</td>\n",
       "      <td>2:11:32</td>\n",
       "      <td></td>\n",
       "      <td>Ethiopia</td>\n",
       "      <td>ETH</td>\n",
       "    </tr>\n",
       "    <tr>\n",
       "      <th>4</th>\n",
       "      <td>4</td>\n",
       "      <td>6</td>\n",
       "      <td>LemiBerhanu</td>\n",
       "      <td>2:11:52</td>\n",
       "      <td></td>\n",
       "      <td>Ethiopia</td>\n",
       "      <td>ETH</td>\n",
       "    </tr>\n",
       "  </tbody>\n",
       "</table>\n",
       "</div>"
      ],
      "text/plain": [
       "   Place  Bib              Name     Time  State   Country  Citizenship\n",
       "0  Place  Bib              Name     Time  State   Country  Citizenship\n",
       "1      1    5  GeoffreyKamworor  2:10:53            Kenya          KEN\n",
       "2      2    4     WilsonKipsang  2:10:56            Kenya          KEN\n",
       "3      3    7      LelisaDesisa  2:11:32         Ethiopia          ETH\n",
       "4      4    6       LemiBerhanu  2:11:52         Ethiopia          ETH"
      ]
     },
     "execution_count": 7,
     "metadata": {},
     "output_type": "execute_result"
    }
   ],
   "source": [
    "# columns names   (for some reason, as you can see below, there are 8 columns)\n",
    "column_names = df_list[0]\n",
    "\n",
    "\n",
    "# loading DataFrame\n",
    "df = pd.DataFrame(df_list, columns=column_names)\n",
    "\n",
    "# inspecting first few lines\n",
    "df.head()"
   ]
  },
  {
   "cell_type": "code",
   "execution_count": 8,
   "metadata": {},
   "outputs": [
    {
     "data": {
      "text/plain": [
       "(102, 7)"
      ]
     },
     "execution_count": 8,
     "metadata": {},
     "output_type": "execute_result"
    }
   ],
   "source": [
    "df.shape"
   ]
  },
  {
   "cell_type": "code",
   "execution_count": 9,
   "metadata": {
    "collapsed": true
   },
   "outputs": [],
   "source": [
    "# dropping the first row because it contians the column names\n",
    "df = df.drop([0]) \n",
    "\n",
    "## Changing data types to proper data types\n",
    "df.Place = pd.to_numeric(df.Place)\n",
    "\n",
    "df.Bib = pd.to_numeric(df.Bib)"
   ]
  },
  {
   "cell_type": "code",
   "execution_count": 10,
   "metadata": {},
   "outputs": [
    {
     "data": {
      "text/html": [
       "<div>\n",
       "<style scoped>\n",
       "    .dataframe tbody tr th:only-of-type {\n",
       "        vertical-align: middle;\n",
       "    }\n",
       "\n",
       "    .dataframe tbody tr th {\n",
       "        vertical-align: top;\n",
       "    }\n",
       "\n",
       "    .dataframe thead th {\n",
       "        text-align: right;\n",
       "    }\n",
       "</style>\n",
       "<table border=\"1\" class=\"dataframe\">\n",
       "  <thead>\n",
       "    <tr style=\"text-align: right;\">\n",
       "      <th></th>\n",
       "      <th>Place</th>\n",
       "      <th>Bib</th>\n",
       "      <th>Name</th>\n",
       "      <th>Time</th>\n",
       "      <th>State</th>\n",
       "      <th>Country</th>\n",
       "      <th>Citizenship</th>\n",
       "    </tr>\n",
       "  </thead>\n",
       "  <tbody>\n",
       "    <tr>\n",
       "      <th>97</th>\n",
       "      <td>97.0</td>\n",
       "      <td>1034.0</td>\n",
       "      <td>ChristopherMutai</td>\n",
       "      <td>2:38:07</td>\n",
       "      <td>FL</td>\n",
       "      <td>UnitedStates</td>\n",
       "      <td>USA</td>\n",
       "    </tr>\n",
       "    <tr>\n",
       "      <th>98</th>\n",
       "      <td>98.0</td>\n",
       "      <td>1366.0</td>\n",
       "      <td>MathewMoody</td>\n",
       "      <td>2:38:08</td>\n",
       "      <td>NY</td>\n",
       "      <td>UnitedStates</td>\n",
       "      <td>USA</td>\n",
       "    </tr>\n",
       "    <tr>\n",
       "      <th>99</th>\n",
       "      <td>99.0</td>\n",
       "      <td>471.0</td>\n",
       "      <td>ThomasMcConville</td>\n",
       "      <td>2:38:11</td>\n",
       "      <td>NY</td>\n",
       "      <td>UnitedStates</td>\n",
       "      <td>USA</td>\n",
       "    </tr>\n",
       "    <tr>\n",
       "      <th>100</th>\n",
       "      <td>100.0</td>\n",
       "      <td>1079.0</td>\n",
       "      <td>BrettBurdick</td>\n",
       "      <td>2:38:20</td>\n",
       "      <td>IL</td>\n",
       "      <td>UnitedStates</td>\n",
       "      <td>USA</td>\n",
       "    </tr>\n",
       "    <tr>\n",
       "      <th>101</th>\n",
       "      <td>NaN</td>\n",
       "      <td>NaN</td>\n",
       "      <td>None</td>\n",
       "      <td>None</td>\n",
       "      <td>None</td>\n",
       "      <td>None</td>\n",
       "      <td>None</td>\n",
       "    </tr>\n",
       "  </tbody>\n",
       "</table>\n",
       "</div>"
      ],
      "text/plain": [
       "     Place     Bib              Name     Time State       Country Citizenship\n",
       "97    97.0  1034.0  ChristopherMutai  2:38:07    FL  UnitedStates         USA\n",
       "98    98.0  1366.0       MathewMoody  2:38:08    NY  UnitedStates         USA\n",
       "99    99.0   471.0  ThomasMcConville  2:38:11    NY  UnitedStates         USA\n",
       "100  100.0  1079.0      BrettBurdick  2:38:20    IL  UnitedStates         USA\n",
       "101    NaN     NaN              None     None  None          None        None"
      ]
     },
     "execution_count": 10,
     "metadata": {},
     "output_type": "execute_result"
    }
   ],
   "source": [
    "df.tail()"
   ]
  },
  {
   "cell_type": "code",
   "execution_count": 11,
   "metadata": {
    "collapsed": true
   },
   "outputs": [],
   "source": [
    "# last row full of NaN's\n",
    "df = df.drop([101])"
   ]
  },
  {
   "cell_type": "code",
   "execution_count": 12,
   "metadata": {},
   "outputs": [
    {
     "data": {
      "text/html": [
       "<div>\n",
       "<style scoped>\n",
       "    .dataframe tbody tr th:only-of-type {\n",
       "        vertical-align: middle;\n",
       "    }\n",
       "\n",
       "    .dataframe tbody tr th {\n",
       "        vertical-align: top;\n",
       "    }\n",
       "\n",
       "    .dataframe thead th {\n",
       "        text-align: right;\n",
       "    }\n",
       "</style>\n",
       "<table border=\"1\" class=\"dataframe\">\n",
       "  <thead>\n",
       "    <tr style=\"text-align: right;\">\n",
       "      <th></th>\n",
       "      <th>Place</th>\n",
       "      <th>Bib</th>\n",
       "      <th>Name</th>\n",
       "      <th>Time</th>\n",
       "      <th>State</th>\n",
       "      <th>Country</th>\n",
       "      <th>Citizenship</th>\n",
       "    </tr>\n",
       "  </thead>\n",
       "  <tbody>\n",
       "    <tr>\n",
       "      <th>59</th>\n",
       "      <td>59.0</td>\n",
       "      <td>465.0</td>\n",
       "      <td>HughParker</td>\n",
       "      <td>2:34:15</td>\n",
       "      <td>NY</td>\n",
       "      <td>UnitedStates</td>\n",
       "      <td>USA</td>\n",
       "    </tr>\n",
       "    <tr>\n",
       "      <th>60</th>\n",
       "      <td>60.0</td>\n",
       "      <td>1084.0</td>\n",
       "      <td>ZacharyMeineke</td>\n",
       "      <td>2:34:22</td>\n",
       "      <td>WI</td>\n",
       "      <td>UnitedStates</td>\n",
       "      <td>USA</td>\n",
       "    </tr>\n",
       "    <tr>\n",
       "      <th>61</th>\n",
       "      <td>61.0</td>\n",
       "      <td>1221.0</td>\n",
       "      <td>AaronWoodman</td>\n",
       "      <td>2:34:23</td>\n",
       "      <td></td>\n",
       "      <td>UnitedKingdom</td>\n",
       "      <td>GBR</td>\n",
       "    </tr>\n",
       "    <tr>\n",
       "      <th>62</th>\n",
       "      <td>62.0</td>\n",
       "      <td>1042.0</td>\n",
       "      <td>MarcoQuaglia</td>\n",
       "      <td>2:34:30</td>\n",
       "      <td></td>\n",
       "      <td>Italy</td>\n",
       "      <td>ITA</td>\n",
       "    </tr>\n",
       "    <tr>\n",
       "      <th>63</th>\n",
       "      <td>63.0</td>\n",
       "      <td>1147.0</td>\n",
       "      <td>GregHutson</td>\n",
       "      <td>2:34:38</td>\n",
       "      <td>MO</td>\n",
       "      <td>UnitedStates</td>\n",
       "      <td>USA</td>\n",
       "    </tr>\n",
       "    <tr>\n",
       "      <th>64</th>\n",
       "      <td>64.0</td>\n",
       "      <td>1247.0</td>\n",
       "      <td>RecioAlvarez</td>\n",
       "      <td>2:34:39</td>\n",
       "      <td></td>\n",
       "      <td>DominicanRepublic</td>\n",
       "      <td>DOM</td>\n",
       "    </tr>\n",
       "    <tr>\n",
       "      <th>65</th>\n",
       "      <td>65.0</td>\n",
       "      <td>478.0</td>\n",
       "      <td>DavidRoeske</td>\n",
       "      <td>2:35:16</td>\n",
       "      <td>NY</td>\n",
       "      <td>UnitedStates</td>\n",
       "      <td>USA</td>\n",
       "    </tr>\n",
       "    <tr>\n",
       "      <th>66</th>\n",
       "      <td>66.0</td>\n",
       "      <td>1017.0</td>\n",
       "      <td>YujiWakimoto</td>\n",
       "      <td>2:35:16</td>\n",
       "      <td>MA</td>\n",
       "      <td>UnitedStates</td>\n",
       "      <td>JPN</td>\n",
       "    </tr>\n",
       "    <tr>\n",
       "      <th>67</th>\n",
       "      <td>67.0</td>\n",
       "      <td>483.0</td>\n",
       "      <td>BrendonO'leary</td>\n",
       "      <td>2:35:27</td>\n",
       "      <td>MA</td>\n",
       "      <td>UnitedStates</td>\n",
       "      <td>USA</td>\n",
       "    </tr>\n",
       "    <tr>\n",
       "      <th>68</th>\n",
       "      <td>68.0</td>\n",
       "      <td>480.0</td>\n",
       "      <td>DanielWallace-Periac</td>\n",
       "      <td>2:35:30</td>\n",
       "      <td>NY</td>\n",
       "      <td>UnitedStates</td>\n",
       "      <td>USA</td>\n",
       "    </tr>\n",
       "    <tr>\n",
       "      <th>69</th>\n",
       "      <td>69.0</td>\n",
       "      <td>1197.0</td>\n",
       "      <td>DanielKittaka</td>\n",
       "      <td>2:35:41</td>\n",
       "      <td>IL</td>\n",
       "      <td>UnitedStates</td>\n",
       "      <td>USA</td>\n",
       "    </tr>\n",
       "    <tr>\n",
       "      <th>70</th>\n",
       "      <td>70.0</td>\n",
       "      <td>1577.0</td>\n",
       "      <td>DomenicoLaBanca</td>\n",
       "      <td>2:35:48</td>\n",
       "      <td>SI</td>\n",
       "      <td>Italy</td>\n",
       "      <td>ITA</td>\n",
       "    </tr>\n",
       "    <tr>\n",
       "      <th>71</th>\n",
       "      <td>71.0</td>\n",
       "      <td>1224.0</td>\n",
       "      <td>TrondSmedsrud</td>\n",
       "      <td>2:36:06</td>\n",
       "      <td></td>\n",
       "      <td>Norway</td>\n",
       "      <td>NOR</td>\n",
       "    </tr>\n",
       "    <tr>\n",
       "      <th>72</th>\n",
       "      <td>72.0</td>\n",
       "      <td>1200.0</td>\n",
       "      <td>MatthewRichards</td>\n",
       "      <td>2:36:23</td>\n",
       "      <td></td>\n",
       "      <td>UnitedKingdom</td>\n",
       "      <td>GBR</td>\n",
       "    </tr>\n",
       "    <tr>\n",
       "      <th>73</th>\n",
       "      <td>73.0</td>\n",
       "      <td>1234.0</td>\n",
       "      <td>AndrewFenske</td>\n",
       "      <td>2:36:27</td>\n",
       "      <td>IL</td>\n",
       "      <td>UnitedStates</td>\n",
       "      <td>USA</td>\n",
       "    </tr>\n",
       "    <tr>\n",
       "      <th>74</th>\n",
       "      <td>74.0</td>\n",
       "      <td>2447.0</td>\n",
       "      <td>JoeViavattine</td>\n",
       "      <td>2:36:37</td>\n",
       "      <td>MN</td>\n",
       "      <td>UnitedStates</td>\n",
       "      <td>USA</td>\n",
       "    </tr>\n",
       "  </tbody>\n",
       "</table>\n",
       "</div>"
      ],
      "text/plain": [
       "    Place     Bib                  Name     Time State            Country  \\\n",
       "59   59.0   465.0            HughParker  2:34:15    NY       UnitedStates   \n",
       "60   60.0  1084.0        ZacharyMeineke  2:34:22    WI       UnitedStates   \n",
       "61   61.0  1221.0          AaronWoodman  2:34:23            UnitedKingdom   \n",
       "62   62.0  1042.0          MarcoQuaglia  2:34:30                    Italy   \n",
       "63   63.0  1147.0            GregHutson  2:34:38    MO       UnitedStates   \n",
       "64   64.0  1247.0          RecioAlvarez  2:34:39        DominicanRepublic   \n",
       "65   65.0   478.0           DavidRoeske  2:35:16    NY       UnitedStates   \n",
       "66   66.0  1017.0          YujiWakimoto  2:35:16    MA       UnitedStates   \n",
       "67   67.0   483.0        BrendonO'leary  2:35:27    MA       UnitedStates   \n",
       "68   68.0   480.0  DanielWallace-Periac  2:35:30    NY       UnitedStates   \n",
       "69   69.0  1197.0         DanielKittaka  2:35:41    IL       UnitedStates   \n",
       "70   70.0  1577.0       DomenicoLaBanca  2:35:48    SI              Italy   \n",
       "71   71.0  1224.0         TrondSmedsrud  2:36:06                   Norway   \n",
       "72   72.0  1200.0       MatthewRichards  2:36:23            UnitedKingdom   \n",
       "73   73.0  1234.0          AndrewFenske  2:36:27    IL       UnitedStates   \n",
       "74   74.0  2447.0         JoeViavattine  2:36:37    MN       UnitedStates   \n",
       "\n",
       "   Citizenship  \n",
       "59         USA  \n",
       "60         USA  \n",
       "61         GBR  \n",
       "62         ITA  \n",
       "63         USA  \n",
       "64         DOM  \n",
       "65         USA  \n",
       "66         JPN  \n",
       "67         USA  \n",
       "68         USA  \n",
       "69         USA  \n",
       "70         ITA  \n",
       "71         NOR  \n",
       "72         GBR  \n",
       "73         USA  \n",
       "74         USA  "
      ]
     },
     "execution_count": 12,
     "metadata": {},
     "output_type": "execute_result"
    }
   ],
   "source": [
    "df[58:74]"
   ]
  },
  {
   "cell_type": "code",
   "execution_count": 13,
   "metadata": {
    "collapsed": true
   },
   "outputs": [],
   "source": [
    "# creating an array for the time in minutes by parsing each time into three items in a list\n",
    "time_in_minutes = []\n",
    "\n",
    "for time in df.Time:\n",
    "    try:\n",
    "        t = time.split(':')\n",
    "\n",
    "        hours, minutes, sec = t[0], t[1], t[2]\n",
    "        total_mins = (int(hours) * 3600 + int(minutes) * 60 + int(sec)) / 60\n",
    "        time_in_minutes.append(total_mins)\n",
    "\n",
    "    except:\n",
    "        print(\"Nope!\", df.Time[time])"
   ]
  },
  {
   "cell_type": "code",
   "execution_count": 14,
   "metadata": {},
   "outputs": [
    {
     "data": {
      "text/html": [
       "<div>\n",
       "<style scoped>\n",
       "    .dataframe tbody tr th:only-of-type {\n",
       "        vertical-align: middle;\n",
       "    }\n",
       "\n",
       "    .dataframe tbody tr th {\n",
       "        vertical-align: top;\n",
       "    }\n",
       "\n",
       "    .dataframe thead th {\n",
       "        text-align: right;\n",
       "    }\n",
       "</style>\n",
       "<table border=\"1\" class=\"dataframe\">\n",
       "  <thead>\n",
       "    <tr style=\"text-align: right;\">\n",
       "      <th></th>\n",
       "      <th>Place</th>\n",
       "      <th>Bib</th>\n",
       "      <th>Name</th>\n",
       "      <th>Time</th>\n",
       "      <th>State</th>\n",
       "      <th>Country</th>\n",
       "      <th>Citizenship</th>\n",
       "      <th>Minutes</th>\n",
       "    </tr>\n",
       "  </thead>\n",
       "  <tbody>\n",
       "    <tr>\n",
       "      <th>1</th>\n",
       "      <td>1.0</td>\n",
       "      <td>5.0</td>\n",
       "      <td>GeoffreyKamworor</td>\n",
       "      <td>2:10:53</td>\n",
       "      <td></td>\n",
       "      <td>Kenya</td>\n",
       "      <td>KEN</td>\n",
       "      <td>130.883333</td>\n",
       "    </tr>\n",
       "    <tr>\n",
       "      <th>2</th>\n",
       "      <td>2.0</td>\n",
       "      <td>4.0</td>\n",
       "      <td>WilsonKipsang</td>\n",
       "      <td>2:10:56</td>\n",
       "      <td></td>\n",
       "      <td>Kenya</td>\n",
       "      <td>KEN</td>\n",
       "      <td>130.933333</td>\n",
       "    </tr>\n",
       "    <tr>\n",
       "      <th>3</th>\n",
       "      <td>3.0</td>\n",
       "      <td>7.0</td>\n",
       "      <td>LelisaDesisa</td>\n",
       "      <td>2:11:32</td>\n",
       "      <td></td>\n",
       "      <td>Ethiopia</td>\n",
       "      <td>ETH</td>\n",
       "      <td>131.533333</td>\n",
       "    </tr>\n",
       "    <tr>\n",
       "      <th>4</th>\n",
       "      <td>4.0</td>\n",
       "      <td>6.0</td>\n",
       "      <td>LemiBerhanu</td>\n",
       "      <td>2:11:52</td>\n",
       "      <td></td>\n",
       "      <td>Ethiopia</td>\n",
       "      <td>ETH</td>\n",
       "      <td>131.866667</td>\n",
       "    </tr>\n",
       "    <tr>\n",
       "      <th>5</th>\n",
       "      <td>5.0</td>\n",
       "      <td>10.0</td>\n",
       "      <td>TadesseAbraham</td>\n",
       "      <td>2:12:01</td>\n",
       "      <td></td>\n",
       "      <td>Switzerland</td>\n",
       "      <td>SUI</td>\n",
       "      <td>132.016667</td>\n",
       "    </tr>\n",
       "  </tbody>\n",
       "</table>\n",
       "</div>"
      ],
      "text/plain": [
       "   Place   Bib              Name     Time State      Country Citizenship  \\\n",
       "1    1.0   5.0  GeoffreyKamworor  2:10:53              Kenya         KEN   \n",
       "2    2.0   4.0     WilsonKipsang  2:10:56              Kenya         KEN   \n",
       "3    3.0   7.0      LelisaDesisa  2:11:32           Ethiopia         ETH   \n",
       "4    4.0   6.0       LemiBerhanu  2:11:52           Ethiopia         ETH   \n",
       "5    5.0  10.0    TadesseAbraham  2:12:01        Switzerland         SUI   \n",
       "\n",
       "      Minutes  \n",
       "1  130.883333  \n",
       "2  130.933333  \n",
       "3  131.533333  \n",
       "4  131.866667  \n",
       "5  132.016667  "
      ]
     },
     "execution_count": 14,
     "metadata": {},
     "output_type": "execute_result"
    }
   ],
   "source": [
    "# creating new column from array from minutes\n",
    "df['Minutes'] = time_in_minutes\n",
    "\n",
    "# inspecting it\n",
    "df.head()"
   ]
  },
  {
   "cell_type": "markdown",
   "metadata": {},
   "source": [
    "### Exploratory Data Analysis"
   ]
  },
  {
   "cell_type": "code",
   "execution_count": 15,
   "metadata": {},
   "outputs": [
    {
     "data": {
      "text/html": [
       "<div>\n",
       "<style scoped>\n",
       "    .dataframe tbody tr th:only-of-type {\n",
       "        vertical-align: middle;\n",
       "    }\n",
       "\n",
       "    .dataframe tbody tr th {\n",
       "        vertical-align: top;\n",
       "    }\n",
       "\n",
       "    .dataframe thead th {\n",
       "        text-align: right;\n",
       "    }\n",
       "</style>\n",
       "<table border=\"1\" class=\"dataframe\">\n",
       "  <thead>\n",
       "    <tr style=\"text-align: right;\">\n",
       "      <th></th>\n",
       "      <th>Place</th>\n",
       "      <th>Bib</th>\n",
       "      <th>Minutes</th>\n",
       "    </tr>\n",
       "  </thead>\n",
       "  <tbody>\n",
       "    <tr>\n",
       "      <th>count</th>\n",
       "      <td>100.000000</td>\n",
       "      <td>100.000000</td>\n",
       "      <td>100.000000</td>\n",
       "    </tr>\n",
       "    <tr>\n",
       "      <th>mean</th>\n",
       "      <td>50.500000</td>\n",
       "      <td>1150.640000</td>\n",
       "      <td>150.685333</td>\n",
       "    </tr>\n",
       "    <tr>\n",
       "      <th>std</th>\n",
       "      <td>29.011492</td>\n",
       "      <td>2648.909318</td>\n",
       "      <td>7.689516</td>\n",
       "    </tr>\n",
       "    <tr>\n",
       "      <th>min</th>\n",
       "      <td>1.000000</td>\n",
       "      <td>3.000000</td>\n",
       "      <td>130.883333</td>\n",
       "    </tr>\n",
       "    <tr>\n",
       "      <th>25%</th>\n",
       "      <td>25.750000</td>\n",
       "      <td>456.750000</td>\n",
       "      <td>148.404167</td>\n",
       "    </tr>\n",
       "    <tr>\n",
       "      <th>50%</th>\n",
       "      <td>50.500000</td>\n",
       "      <td>928.500000</td>\n",
       "      <td>153.000000</td>\n",
       "    </tr>\n",
       "    <tr>\n",
       "      <th>75%</th>\n",
       "      <td>75.250000</td>\n",
       "      <td>1148.750000</td>\n",
       "      <td>156.641667</td>\n",
       "    </tr>\n",
       "    <tr>\n",
       "      <th>max</th>\n",
       "      <td>100.000000</td>\n",
       "      <td>19568.000000</td>\n",
       "      <td>158.333333</td>\n",
       "    </tr>\n",
       "  </tbody>\n",
       "</table>\n",
       "</div>"
      ],
      "text/plain": [
       "            Place           Bib     Minutes\n",
       "count  100.000000    100.000000  100.000000\n",
       "mean    50.500000   1150.640000  150.685333\n",
       "std     29.011492   2648.909318    7.689516\n",
       "min      1.000000      3.000000  130.883333\n",
       "25%     25.750000    456.750000  148.404167\n",
       "50%     50.500000    928.500000  153.000000\n",
       "75%     75.250000   1148.750000  156.641667\n",
       "max    100.000000  19568.000000  158.333333"
      ]
     },
     "execution_count": 15,
     "metadata": {},
     "output_type": "execute_result"
    }
   ],
   "source": [
    "df.describe()"
   ]
  },
  {
   "cell_type": "code",
   "execution_count": 16,
   "metadata": {},
   "outputs": [
    {
     "data": {
      "image/png": "[encoded data removed]",
      "text/plain": [
       "<matplotlib.figure.Figure at 0x7f854be0c0b8>"
      ]
     },
     "metadata": {},
     "output_type": "display_data"
    }
   ],
   "source": [
    "## Distribution Plot\n",
    "f = plt.figure(figsize=(10,5))\n",
    "\n",
    "sns.distplot(df.Minutes, hist=True, kde=True, \n",
    "             rug=False, color='#23BBB4', bins=int(np.sqrt(len(df.Time))), \n",
    "             hist_kws={'edgecolor':'black'}\n",
    "            )\n",
    "\n",
    "plt.suptitle(\"Distribution of Top 100 Overall Men's Times\\n at 2018 NYC Marathon\",\n",
    "             fontsize=16)\n",
    "\n",
    "plt.xlabel(\"Minutes\", fontsize=14)\n",
    "\n",
    "plt.savefig(\"OverallMensMinutesDistribution.png\")\n",
    "\n",
    "plt.show()"
   ]
  },
  {
   "cell_type": "code",
   "execution_count": 17,
   "metadata": {},
   "outputs": [
    {
     "data": {
      "image/png": "[encoded data removed]",
      "text/plain": [
       "<matplotlib.figure.Figure at 0x7f854be139b0>"
      ]
     },
     "metadata": {},
     "output_type": "display_data"
    }
   ],
   "source": [
    "df.boxplot(column='Minutes', by='Citizenship', figsize=(10,10))\n",
    "\n",
    "plt.suptitle(\" \")\n",
    "\n",
    "plt.ylabel(\"Minutes\", fontsize=12)\n",
    "plt.show()"
   ]
  },
  {
   "cell_type": "markdown",
   "metadata": {},
   "source": [
    "### Counts of Top 100 Overall Mens Finishers by Country"
   ]
  },
  {
   "cell_type": "code",
   "execution_count": 20,
   "metadata": {},
   "outputs": [
    {
     "name": "stderr",
     "output_type": "stream",
     "text": [
      "/home/adam/anaconda3/lib/python3.6/site-packages/seaborn/categorical.py:1460: FutureWarning: remove_na is deprecated and is a private function. Do not use.\n",
      "  stat_data = remove_na(group_data)\n"
     ]
    },
    {
     "data": {
      "image/png": "[encoded data removed]",
      "text/plain": [
       "<matplotlib.figure.Figure at 0x7f8543c52d68>"
      ]
     },
     "metadata": {},
     "output_type": "display_data"
    }
   ],
   "source": [
    "f = plt.figure(figsize=(16,10))\n",
    "\n",
    "sns.countplot(x='Country', data=df.dropna())\n",
    "\n",
    "\n",
    "plt.xticks(rotation=45)\n",
    "plt.ylabel(\"Count\", fontsize=16)\n",
    "plt.xlabel(\"Country\", fontsize=16)\n",
    "\n",
    "plt.title(\"Counts of Top 100 Overall Mens Finishers by Country\", fontsize=16)\n",
    "\n",
    "plt.savefig(\"By-Country.png\")\n",
    "\n",
    "plt.show()"
   ]
  },
  {
   "cell_type": "markdown",
   "metadata": {},
   "source": [
    "### Counts of Top 100 Overall Mens Finishers by State"
   ]
  },
  {
   "cell_type": "code",
   "execution_count": 19,
   "metadata": {},
   "outputs": [
    {
     "name": "stderr",
     "output_type": "stream",
     "text": [
      "/home/adam/anaconda3/lib/python3.6/site-packages/seaborn/categorical.py:1460: FutureWarning: remove_na is deprecated and is a private function. Do not use.\n",
      "  stat_data = remove_na(group_data)\n"
     ]
    },
    {
     "data": {
      "image/png": "[encoded data removed]",
      "text/plain": [
       "<matplotlib.figure.Figure at 0x7f8543cb3438>"
      ]
     },
     "metadata": {},
     "output_type": "display_data"
    }
   ],
   "source": [
    "f = plt.figure(figsize=(12,10))\n",
    "\n",
    "sns.countplot(x='State', data=df.dropna())\n",
    "\n",
    "\n",
    "\n",
    "plt.ylabel(\"Count\", fontsize=16)\n",
    "plt.xlabel(\"State\", fontsize=16)\n",
    "\n",
    "plt.title(\"Counts of Top 100 Overall Mens Finishers by State\", fontsize=16)\n",
    "\n",
    "plt.show()"
   ]
  },
  {
   "cell_type": "code",
   "execution_count": null,
   "metadata": {
    "collapsed": true
   },
   "outputs": [],
   "source": []
  }
 ],
 "metadata": {
  "kernelspec": {
   "display_name": "Python 3",
   "language": "python",
   "name": "python3"
  },
  "language_info": {
   "codemirror_mode": {
    "name": "ipython",
    "version": 3
   },
   "file_extension": ".py",
   "mimetype": "text/x-python",
   "name": "python",
   "nbconvert_exporter": "python",
   "pygments_lexer": "ipython3",
   "version": "3.6.3"
  }
 },
 "nbformat": 4,
 "nbformat_minor": 2
}
